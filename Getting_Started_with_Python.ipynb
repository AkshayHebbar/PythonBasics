{
 "cells": [
  {
   "cell_type": "markdown",
   "id": "sought-brook",
   "metadata": {},
   "source": [
    "# Introduction"
   ]
  },
  {
   "cell_type": "code",
   "execution_count": 1,
   "id": "derived-subcommittee",
   "metadata": {},
   "outputs": [
    {
     "name": "stdout",
     "output_type": "stream",
     "text": [
      "Python 3.8.3\n"
     ]
    }
   ],
   "source": [
    "!python --version "
   ]
  },
  {
   "cell_type": "markdown",
   "id": "residential-calibration",
   "metadata": {},
   "source": [
    "!python : Indicates that this is a shell command"
   ]
  },
  {
   "cell_type": "markdown",
   "id": "rapid-session",
   "metadata": {},
   "source": [
    "#### MATH Operations"
   ]
  },
  {
   "cell_type": "markdown",
   "id": "behind-phase",
   "metadata": {},
   "source": [
    "##### Regular Addition and subtraction"
   ]
  },
  {
   "cell_type": "code",
   "execution_count": 5,
   "id": "deadly-answer",
   "metadata": {},
   "outputs": [
    {
     "data": {
      "text/plain": [
       "3"
      ]
     },
     "execution_count": 5,
     "metadata": {},
     "output_type": "execute_result"
    }
   ],
   "source": [
    "1+2"
   ]
  },
  {
   "cell_type": "code",
   "execution_count": 6,
   "id": "scheduled-seafood",
   "metadata": {},
   "outputs": [
    {
     "data": {
      "text/plain": [
       "27.2"
      ]
     },
     "execution_count": 6,
     "metadata": {},
     "output_type": "execute_result"
    }
   ],
   "source": [
    "25.5+1.7"
   ]
  },
  {
   "cell_type": "code",
   "execution_count": 7,
   "id": "quick-shopping",
   "metadata": {},
   "outputs": [
    {
     "data": {
      "text/plain": [
       "5.0"
      ]
     },
     "execution_count": 7,
     "metadata": {},
     "output_type": "execute_result"
    }
   ],
   "source": [
    "2.+3"
   ]
  },
  {
   "cell_type": "code",
   "execution_count": 8,
   "id": "chronic-point",
   "metadata": {},
   "outputs": [
    {
     "data": {
      "text/plain": [
       "1.2"
      ]
     },
     "execution_count": 8,
     "metadata": {},
     "output_type": "execute_result"
    }
   ],
   "source": [
    ".2+1"
   ]
  },
  {
   "cell_type": "code",
   "execution_count": 12,
   "id": "empirical-still",
   "metadata": {},
   "outputs": [
    {
     "data": {
      "text/plain": [
       "-1"
      ]
     },
     "execution_count": 12,
     "metadata": {},
     "output_type": "execute_result"
    }
   ],
   "source": [
    "1-2"
   ]
  },
  {
   "cell_type": "code",
   "execution_count": 13,
   "id": "compressed-spice",
   "metadata": {},
   "outputs": [
    {
     "data": {
      "text/plain": [
       "-1.0"
      ]
     },
     "execution_count": 13,
     "metadata": {},
     "output_type": "execute_result"
    }
   ],
   "source": [
    "2.-3"
   ]
  },
  {
   "cell_type": "code",
   "execution_count": 14,
   "id": "magnetic-retreat",
   "metadata": {},
   "outputs": [
    {
     "data": {
      "text/plain": [
       "4.0"
      ]
     },
     "execution_count": 14,
     "metadata": {},
     "output_type": "execute_result"
    }
   ],
   "source": [
    "5.5-1.5"
   ]
  },
  {
   "cell_type": "code",
   "execution_count": 30,
   "id": "reasonable-insulin",
   "metadata": {},
   "outputs": [
    {
     "data": {
      "text/plain": [
       "8.000000000000002"
      ]
     },
     "execution_count": 30,
     "metadata": {},
     "output_type": "execute_result"
    }
   ],
   "source": [
    "20.6-12.6"
   ]
  },
  {
   "cell_type": "markdown",
   "id": "central-bhutan",
   "metadata": {},
   "source": [
    "##### Division and Multiplication"
   ]
  },
  {
   "cell_type": "code",
   "execution_count": 31,
   "id": "hearing-basin",
   "metadata": {},
   "outputs": [
    {
     "data": {
      "text/plain": [
       "0.5"
      ]
     },
     "execution_count": 31,
     "metadata": {},
     "output_type": "execute_result"
    }
   ],
   "source": [
    "1/2"
   ]
  },
  {
   "cell_type": "code",
   "execution_count": 32,
   "id": "changed-enough",
   "metadata": {},
   "outputs": [
    {
     "data": {
      "text/plain": [
       "2.0"
      ]
     },
     "execution_count": 32,
     "metadata": {},
     "output_type": "execute_result"
    }
   ],
   "source": [
    "2/1"
   ]
  },
  {
   "cell_type": "code",
   "execution_count": 33,
   "id": "dutch-xerox",
   "metadata": {},
   "outputs": [
    {
     "ename": "ZeroDivisionError",
     "evalue": "division by zero",
     "output_type": "error",
     "traceback": [
      "\u001b[1;31m---------------------------------------------------------------------------\u001b[0m",
      "\u001b[1;31mZeroDivisionError\u001b[0m                         Traceback (most recent call last)",
      "\u001b[1;32m<ipython-input-33-9e1622b385b6>\u001b[0m in \u001b[0;36m<module>\u001b[1;34m\u001b[0m\n\u001b[1;32m----> 1\u001b[1;33m \u001b[1;36m1\u001b[0m\u001b[1;33m/\u001b[0m\u001b[1;36m0\u001b[0m\u001b[1;33m\u001b[0m\u001b[1;33m\u001b[0m\u001b[0m\n\u001b[0m",
      "\u001b[1;31mZeroDivisionError\u001b[0m: division by zero"
     ]
    }
   ],
   "source": [
    "1/0"
   ]
  },
  {
   "cell_type": "code",
   "execution_count": 34,
   "id": "sustainable-austria",
   "metadata": {},
   "outputs": [
    {
     "data": {
      "text/plain": [
       "0.0"
      ]
     },
     "execution_count": 34,
     "metadata": {},
     "output_type": "execute_result"
    }
   ],
   "source": [
    "0/1"
   ]
  },
  {
   "cell_type": "code",
   "execution_count": 35,
   "id": "arctic-hartford",
   "metadata": {},
   "outputs": [
    {
     "data": {
      "text/plain": [
       "2.0"
      ]
     },
     "execution_count": 35,
     "metadata": {},
     "output_type": "execute_result"
    }
   ],
   "source": [
    "4/2"
   ]
  },
  {
   "cell_type": "code",
   "execution_count": 36,
   "id": "brilliant-ghana",
   "metadata": {},
   "outputs": [
    {
     "data": {
      "text/plain": [
       "4"
      ]
     },
     "execution_count": 36,
     "metadata": {},
     "output_type": "execute_result"
    }
   ],
   "source": [
    "2*2"
   ]
  },
  {
   "cell_type": "code",
   "execution_count": 37,
   "id": "graphic-bibliography",
   "metadata": {},
   "outputs": [
    {
     "data": {
      "text/plain": [
       "-6.0"
      ]
     },
     "execution_count": 37,
     "metadata": {},
     "output_type": "execute_result"
    }
   ],
   "source": [
    "2.*-3"
   ]
  },
  {
   "cell_type": "code",
   "execution_count": 38,
   "id": "measured-luther",
   "metadata": {},
   "outputs": [
    {
     "ename": "ZeroDivisionError",
     "evalue": "division by zero",
     "output_type": "error",
     "traceback": [
      "\u001b[1;31m---------------------------------------------------------------------------\u001b[0m",
      "\u001b[1;31mZeroDivisionError\u001b[0m                         Traceback (most recent call last)",
      "\u001b[1;32m<ipython-input-38-a3e140e74ed9>\u001b[0m in \u001b[0;36m<module>\u001b[1;34m\u001b[0m\n\u001b[1;32m----> 1\u001b[1;33m \u001b[1;36m2\u001b[0m\u001b[1;33m*\u001b[0m\u001b[1;33m(\u001b[0m\u001b[1;36m1\u001b[0m\u001b[1;33m/\u001b[0m\u001b[1;36m0\u001b[0m\u001b[1;33m)\u001b[0m\u001b[1;33m\u001b[0m\u001b[1;33m\u001b[0m\u001b[0m\n\u001b[0m",
      "\u001b[1;31mZeroDivisionError\u001b[0m: division by zero"
     ]
    }
   ],
   "source": [
    "2*(1/0)"
   ]
  },
  {
   "cell_type": "markdown",
   "id": "attached-journalism",
   "metadata": {},
   "source": [
    "Power Operation"
   ]
  },
  {
   "cell_type": "code",
   "execution_count": 39,
   "id": "exact-anderson",
   "metadata": {},
   "outputs": [
    {
     "data": {
      "text/plain": [
       "8"
      ]
     },
     "execution_count": 39,
     "metadata": {},
     "output_type": "execute_result"
    }
   ],
   "source": [
    "2**3"
   ]
  },
  {
   "cell_type": "code",
   "execution_count": 40,
   "id": "meaningful-committee",
   "metadata": {},
   "outputs": [
    {
     "data": {
      "text/plain": [
       "81"
      ]
     },
     "execution_count": 40,
     "metadata": {},
     "output_type": "execute_result"
    }
   ],
   "source": [
    "3**4"
   ]
  },
  {
   "cell_type": "code",
   "execution_count": 41,
   "id": "fifty-harrison",
   "metadata": {},
   "outputs": [
    {
     "data": {
      "text/plain": [
       "8"
      ]
     },
     "execution_count": 41,
     "metadata": {},
     "output_type": "execute_result"
    }
   ],
   "source": [
    "pow(2,3)"
   ]
  },
  {
   "cell_type": "code",
   "execution_count": 42,
   "id": "concerned-manufacturer",
   "metadata": {},
   "outputs": [
    {
     "data": {
      "text/plain": [
       "81"
      ]
     },
     "execution_count": 42,
     "metadata": {},
     "output_type": "execute_result"
    }
   ],
   "source": [
    "pow(3,4)"
   ]
  },
  {
   "cell_type": "markdown",
   "id": "criminal-textbook",
   "metadata": {},
   "source": [
    "##### Integral result of division : Integer value of a quotient"
   ]
  },
  {
   "cell_type": "code",
   "execution_count": 47,
   "id": "macro-baghdad",
   "metadata": {},
   "outputs": [
    {
     "data": {
      "text/plain": [
       "2"
      ]
     },
     "execution_count": 47,
     "metadata": {},
     "output_type": "execute_result"
    }
   ],
   "source": [
    "4//2"
   ]
  },
  {
   "cell_type": "code",
   "execution_count": 48,
   "id": "collective-category",
   "metadata": {},
   "outputs": [
    {
     "data": {
      "text/plain": [
       "1"
      ]
     },
     "execution_count": 48,
     "metadata": {},
     "output_type": "execute_result"
    }
   ],
   "source": [
    "3//2"
   ]
  },
  {
   "cell_type": "markdown",
   "id": "rural-fiber",
   "metadata": {},
   "source": [
    "##### Modulo Operator : for getting remainder"
   ]
  },
  {
   "cell_type": "code",
   "execution_count": 1,
   "id": "growing-initial",
   "metadata": {},
   "outputs": [
    {
     "data": {
      "text/plain": [
       "2"
      ]
     },
     "execution_count": 1,
     "metadata": {},
     "output_type": "execute_result"
    }
   ],
   "source": [
    "50%4"
   ]
  },
  {
   "cell_type": "code",
   "execution_count": 2,
   "id": "comparative-quantity",
   "metadata": {},
   "outputs": [
    {
     "data": {
      "text/plain": [
       "1.0"
      ]
     },
     "execution_count": 2,
     "metadata": {},
     "output_type": "execute_result"
    }
   ],
   "source": [
    "3.%2"
   ]
  },
  {
   "cell_type": "code",
   "execution_count": 3,
   "id": "simple-disclosure",
   "metadata": {},
   "outputs": [
    {
     "ename": "ZeroDivisionError",
     "evalue": "integer division or modulo by zero",
     "output_type": "error",
     "traceback": [
      "\u001b[1;31m---------------------------------------------------------------------------\u001b[0m",
      "\u001b[1;31mZeroDivisionError\u001b[0m                         Traceback (most recent call last)",
      "\u001b[1;32m<ipython-input-3-29746e9220ea>\u001b[0m in \u001b[0;36m<module>\u001b[1;34m\u001b[0m\n\u001b[1;32m----> 1\u001b[1;33m \u001b[1;36m1\u001b[0m\u001b[1;33m%\u001b[0m\u001b[1;36m0\u001b[0m\u001b[1;33m\u001b[0m\u001b[1;33m\u001b[0m\u001b[0m\n\u001b[0m",
      "\u001b[1;31mZeroDivisionError\u001b[0m: integer division or modulo by zero"
     ]
    }
   ],
   "source": [
    "1%0"
   ]
  },
  {
   "cell_type": "code",
   "execution_count": 4,
   "id": "continental-modification",
   "metadata": {},
   "outputs": [
    {
     "data": {
      "text/plain": [
       "0"
      ]
     },
     "execution_count": 4,
     "metadata": {},
     "output_type": "execute_result"
    }
   ],
   "source": [
    "0%1"
   ]
  },
  {
   "cell_type": "markdown",
   "id": "completed-spotlight",
   "metadata": {},
   "source": [
    "### BODMAS : Braces, Order, Division, Multiplication, Addition, Subtraction\n",
    "### (Numerator)/ Denominator -> first numerator will be evaluated and then denominator"
   ]
  },
  {
   "cell_type": "code",
   "execution_count": 5,
   "id": "balanced-acrylic",
   "metadata": {},
   "outputs": [
    {
     "data": {
      "text/plain": [
       "32.0"
      ]
     },
     "execution_count": 5,
     "metadata": {},
     "output_type": "execute_result"
    }
   ],
   "source": [
    "(40* 4)/5"
   ]
  },
  {
   "cell_type": "markdown",
   "id": "varying-management",
   "metadata": {},
   "source": [
    "## String Operation"
   ]
  },
  {
   "cell_type": "code",
   "execution_count": 7,
   "id": "waiting-mortgage",
   "metadata": {},
   "outputs": [
    {
     "data": {
      "text/plain": [
       "'Helo World !Helo World !Helo World !'"
      ]
     },
     "execution_count": 7,
     "metadata": {},
     "output_type": "execute_result"
    }
   ],
   "source": [
    "\"Helo World !\" * 3"
   ]
  },
  {
   "cell_type": "code",
   "execution_count": 8,
   "id": "cordless-irrigation",
   "metadata": {},
   "outputs": [
    {
     "ename": "TypeError",
     "evalue": "must be str, not int",
     "output_type": "error",
     "traceback": [
      "\u001b[1;31m---------------------------------------------------------------------------\u001b[0m",
      "\u001b[1;31mTypeError\u001b[0m                                 Traceback (most recent call last)",
      "\u001b[1;32m<ipython-input-8-753b7b17564f>\u001b[0m in \u001b[0;36m<module>\u001b[1;34m\u001b[0m\n\u001b[1;32m----> 1\u001b[1;33m \u001b[1;34m\"Helo World !\"\u001b[0m \u001b[1;33m+\u001b[0m \u001b[1;36m3\u001b[0m\u001b[1;33m\u001b[0m\u001b[1;33m\u001b[0m\u001b[0m\n\u001b[0m",
      "\u001b[1;31mTypeError\u001b[0m: must be str, not int"
     ]
    }
   ],
   "source": [
    "\"Helo World !\" + 3"
   ]
  },
  {
   "cell_type": "markdown",
   "id": "prompt-labor",
   "metadata": {},
   "source": [
    "## Built-in Functions"
   ]
  },
  {
   "cell_type": "code",
   "execution_count": 10,
   "id": "revolutionary-fairy",
   "metadata": {},
   "outputs": [
    {
     "data": {
      "text/plain": [
       "'Hello World Echo !'"
      ]
     },
     "execution_count": 10,
     "metadata": {},
     "output_type": "execute_result"
    }
   ],
   "source": [
    "\"Hello World Echo !\""
   ]
  },
  {
   "cell_type": "code",
   "execution_count": 13,
   "id": "viral-flight",
   "metadata": {},
   "outputs": [
    {
     "name": "stdout",
     "output_type": "stream",
     "text": [
      "Hello World !\n"
     ]
    }
   ],
   "source": [
    "print(\"Hello World !\") #Function_Name(parameters)"
   ]
  },
  {
   "cell_type": "code",
   "execution_count": 14,
   "id": "fresh-telescope",
   "metadata": {},
   "outputs": [
    {
     "ename": "SyntaxError",
     "evalue": "invalid syntax (<ipython-input-14-cda8cb9c94eb>, line 1)",
     "output_type": "error",
     "traceback": [
      "\u001b[1;36m  File \u001b[1;32m\"<ipython-input-14-cda8cb9c94eb>\"\u001b[1;36m, line \u001b[1;32m1\u001b[0m\n\u001b[1;33m    print(Hello World !)\u001b[0m\n\u001b[1;37m                    ^\u001b[0m\n\u001b[1;31mSyntaxError\u001b[0m\u001b[1;31m:\u001b[0m invalid syntax\n"
     ]
    }
   ],
   "source": [
    "print(Hello World !)"
   ]
  },
  {
   "cell_type": "code",
   "execution_count": 15,
   "id": "polyphonic-probe",
   "metadata": {},
   "outputs": [
    {
     "data": {
      "text/plain": [
       "11"
      ]
     },
     "execution_count": 15,
     "metadata": {},
     "output_type": "execute_result"
    }
   ],
   "source": [
    "len(\"Hello World\")"
   ]
  },
  {
   "cell_type": "code",
   "execution_count": 18,
   "id": "damaged-boards",
   "metadata": {},
   "outputs": [
    {
     "name": "stdout",
     "output_type": "stream",
     "text": [
      "3\n",
      "5.0\n",
      "1\n"
     ]
    }
   ],
   "source": [
    "print(1+2);\n",
    "print(3.+2);\n",
    "print(5%2);"
   ]
  },
  {
   "cell_type": "code",
   "execution_count": 30,
   "id": "alleged-oregon",
   "metadata": {},
   "outputs": [
    {
     "data": {
      "text/plain": [
       "22"
      ]
     },
     "execution_count": 30,
     "metadata": {},
     "output_type": "execute_result"
    }
   ],
   "source": [
    "abs(-22)"
   ]
  },
  {
   "cell_type": "code",
   "execution_count": 31,
   "id": "graduate-england",
   "metadata": {},
   "outputs": [
    {
     "data": {
      "text/plain": [
       "24.666666666666668"
      ]
     },
     "execution_count": 31,
     "metadata": {},
     "output_type": "execute_result"
    }
   ],
   "source": [
    "abs(4*7+(-10/3))"
   ]
  },
  {
   "cell_type": "code",
   "execution_count": 29,
   "id": "crazy-specific",
   "metadata": {},
   "outputs": [
    {
     "data": {
      "text/plain": [
       "str"
      ]
     },
     "execution_count": 29,
     "metadata": {},
     "output_type": "execute_result"
    }
   ],
   "source": [
    "type(\"Hello\")"
   ]
  },
  {
   "cell_type": "code",
   "execution_count": 34,
   "id": "structural-maldives",
   "metadata": {},
   "outputs": [
    {
     "data": {
      "text/plain": [
       "15"
      ]
     },
     "execution_count": 34,
     "metadata": {},
     "output_type": "execute_result"
    }
   ],
   "source": [
    "round(15.4666)"
   ]
  },
  {
   "cell_type": "code",
   "execution_count": 40,
   "id": "protecting-compiler",
   "metadata": {},
   "outputs": [
    {
     "data": {
      "text/plain": [
       "9.5"
      ]
     },
     "execution_count": 40,
     "metadata": {},
     "output_type": "execute_result"
    }
   ],
   "source": [
    "max(5,6,8,9,6,1,9.5)"
   ]
  },
  {
   "cell_type": "code",
   "execution_count": 41,
   "id": "modern-logic",
   "metadata": {},
   "outputs": [
    {
     "data": {
      "text/plain": [
       "1"
      ]
     },
     "execution_count": 41,
     "metadata": {},
     "output_type": "execute_result"
    }
   ],
   "source": [
    "min(5,6,8,9,6,1,9.5)"
   ]
  },
  {
   "cell_type": "markdown",
   "id": "looking-manufacturer",
   "metadata": {},
   "source": [
    "## Variable and Stored Values"
   ]
  },
  {
   "cell_type": "code",
   "execution_count": 45,
   "id": "blessed-pharmacology",
   "metadata": {},
   "outputs": [
    {
     "data": {
      "text/plain": [
       "100000000"
      ]
     },
     "execution_count": 45,
     "metadata": {},
     "output_type": "execute_result"
    }
   ],
   "source": [
    "salary = 100000000;\n",
    "salary\n",
    "#print(salary);"
   ]
  },
  {
   "cell_type": "code",
   "execution_count": 46,
   "id": "separate-technology",
   "metadata": {},
   "outputs": [],
   "source": [
    "HRA = 5000;"
   ]
  },
  {
   "cell_type": "code",
   "execution_count": 47,
   "id": "ignored-croatia",
   "metadata": {},
   "outputs": [],
   "source": [
    "netSalary = salary + HRA;"
   ]
  },
  {
   "cell_type": "code",
   "execution_count": 48,
   "id": "previous-inclusion",
   "metadata": {},
   "outputs": [
    {
     "data": {
      "text/plain": [
       "100005000"
      ]
     },
     "execution_count": 48,
     "metadata": {},
     "output_type": "execute_result"
    }
   ],
   "source": [
    "netSalary"
   ]
  },
  {
   "cell_type": "code",
   "execution_count": 49,
   "id": "atomic-twist",
   "metadata": {},
   "outputs": [
    {
     "name": "stdout",
     "output_type": "stream",
     "text": [
      "Net Salary is: 100005000\n"
     ]
    }
   ],
   "source": [
    "print(\"Net Salary is:\", netSalary)"
   ]
  },
  {
   "cell_type": "markdown",
   "id": "sublime-symbol",
   "metadata": {},
   "source": [
    "##### String concatenation"
   ]
  },
  {
   "cell_type": "code",
   "execution_count": 50,
   "id": "formal-petite",
   "metadata": {},
   "outputs": [
    {
     "data": {
      "text/plain": [
       "'DayLights'"
      ]
     },
     "execution_count": 50,
     "metadata": {},
     "output_type": "execute_result"
    }
   ],
   "source": [
    "\"Day\" + \"Lights\""
   ]
  },
  {
   "cell_type": "code",
   "execution_count": 51,
   "id": "knowing-regular",
   "metadata": {},
   "outputs": [],
   "source": [
    "num1 = 2\n",
    "num2 = \"2\""
   ]
  },
  {
   "cell_type": "code",
   "execution_count": 52,
   "id": "smaller-hormone",
   "metadata": {},
   "outputs": [
    {
     "ename": "TypeError",
     "evalue": "unsupported operand type(s) for +: 'int' and 'str'",
     "output_type": "error",
     "traceback": [
      "\u001b[1;31m---------------------------------------------------------------------------\u001b[0m",
      "\u001b[1;31mTypeError\u001b[0m                                 Traceback (most recent call last)",
      "\u001b[1;32m<ipython-input-52-92e005014385>\u001b[0m in \u001b[0;36m<module>\u001b[1;34m\u001b[0m\n\u001b[1;32m----> 1\u001b[1;33m \u001b[0mnum1\u001b[0m\u001b[1;33m+\u001b[0m\u001b[0mnum2\u001b[0m\u001b[1;33m\u001b[0m\u001b[1;33m\u001b[0m\u001b[0m\n\u001b[0m",
      "\u001b[1;31mTypeError\u001b[0m: unsupported operand type(s) for +: 'int' and 'str'"
     ]
    }
   ],
   "source": [
    "num1+num2"
   ]
  },
  {
   "cell_type": "code",
   "execution_count": 55,
   "id": "important-small",
   "metadata": {},
   "outputs": [
    {
     "data": {
      "text/plain": [
       "str"
      ]
     },
     "execution_count": 55,
     "metadata": {},
     "output_type": "execute_result"
    }
   ],
   "source": [
    "type(num1)\n",
    "type(num2)"
   ]
  },
  {
   "cell_type": "markdown",
   "id": "neither-pledge",
   "metadata": {},
   "source": [
    "##### Boolean Values"
   ]
  },
  {
   "cell_type": "code",
   "execution_count": 1,
   "id": "italian-explosion",
   "metadata": {},
   "outputs": [],
   "source": [
    "x=True\n",
    "y=False"
   ]
  },
  {
   "cell_type": "code",
   "execution_count": 4,
   "id": "affected-inspiration",
   "metadata": {},
   "outputs": [
    {
     "name": "stdout",
     "output_type": "stream",
     "text": [
      "x and y is: True False\n",
      "x and y is: False\n",
      "x or y is: True\n",
      "negation of x is: False\n"
     ]
    }
   ],
   "source": [
    "print('x and y is:',x,y)\n",
    "print('x and y is:',x and y)\n",
    "print('x or y is:',x or y)\n",
    "print('negation of x is:',not x)"
   ]
  },
  {
   "cell_type": "code",
   "execution_count": null,
   "id": "alive-choir",
   "metadata": {},
   "outputs": [],
   "source": []
  }
 ],
 "metadata": {
  "kernelspec": {
   "display_name": "Python 3",
   "language": "python",
   "name": "python3"
  },
  "language_info": {
   "codemirror_mode": {
    "name": "ipython",
    "version": 3
   },
   "file_extension": ".py",
   "mimetype": "text/x-python",
   "name": "python",
   "nbconvert_exporter": "python",
   "pygments_lexer": "ipython3",
   "version": "3.6.12"
  }
 },
 "nbformat": 4,
 "nbformat_minor": 5
}
